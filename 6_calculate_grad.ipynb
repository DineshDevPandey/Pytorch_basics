{
  "nbformat": 4,
  "nbformat_minor": 0,
  "metadata": {
    "colab": {
      "name": "6_calculate_grad.ipynb",
      "version": "0.3.2",
      "provenance": [],
      "include_colab_link": true
    },
    "kernelspec": {
      "name": "python3",
      "display_name": "Python 3"
    }
  },
  "cells": [
    {
      "cell_type": "markdown",
      "metadata": {
        "id": "view-in-github",
        "colab_type": "text"
      },
      "source": [
        "<a href=\"https://colab.research.google.com/github/DineshDevPandey/Pytorch_basics/blob/master/6_calculate_grad.ipynb\" target=\"_parent\"><img src=\"https://colab.research.google.com/assets/colab-badge.svg\" alt=\"Open In Colab\"/></a>"
      ]
    },
    {
      "cell_type": "code",
      "metadata": {
        "id": "pikGoGEaYlWL",
        "colab_type": "code",
        "colab": {}
      },
      "source": [
        "import torch"
      ],
      "execution_count": 0,
      "outputs": []
    },
    {
      "cell_type": "markdown",
      "metadata": {
        "id": "H2BRkc9mcfJz",
        "colab_type": "text"
      },
      "source": [
        "# calculate gradient "
      ]
    },
    {
      "cell_type": "markdown",
      "metadata": {
        "id": "rT4eCTGXbe2R",
        "colab_type": "text"
      },
      "source": [
        "Find defferentation of y = 9*x**4 + 2*x**3 +  3*x**2 + 6*x + 1 at point x = 2"
      ]
    },
    {
      "cell_type": "code",
      "metadata": {
        "id": "Prgl4YMwY5gD",
        "colab_type": "code",
        "colab": {
          "base_uri": "https://localhost:8080/",
          "height": 34
        },
        "outputId": "ece3dd6f-982f-4a62-cc06-0477721b9261"
      },
      "source": [
        "# create a tensor of x value with grad enables\n",
        "x = torch.tensor(2.0, requires_grad=True)\n",
        "# our expression\n",
        "y = 9*x**4 + 2*x**3 +  3*x**2 + 6*x + 1\n",
        "# calculate grad\n",
        "y.backward()\n",
        "# display grad\n",
        "x.grad"
      ],
      "execution_count": 7,
      "outputs": [
        {
          "output_type": "execute_result",
          "data": {
            "text/plain": [
              "tensor(330.)"
            ]
          },
          "metadata": {
            "tags": []
          },
          "execution_count": 7
        }
      ]
    },
    {
      "cell_type": "markdown",
      "metadata": {
        "id": "60XAB-JQcl3j",
        "colab_type": "text"
      },
      "source": [
        "# calculate partial gradient"
      ]
    },
    {
      "cell_type": "code",
      "metadata": {
        "id": "TCLphT2eZwug",
        "colab_type": "code",
        "colab": {
          "base_uri": "https://localhost:8080/",
          "height": 51
        },
        "outputId": "ac31ded0-88a2-4a3c-dd9f-209025f4a1c4"
      },
      "source": [
        "x = torch.tensor(1.0, requires_grad=True)\n",
        "z = torch.tensor(2.0 , requires_grad=True)\n",
        "y = x**2 + z**3\n",
        "y.backward()\n",
        "print(x.grad)\n",
        "print(z.grad)"
      ],
      "execution_count": 11,
      "outputs": [
        {
          "output_type": "stream",
          "text": [
            "tensor(2.)\n",
            "tensor(12.)\n"
          ],
          "name": "stdout"
        }
      ]
    },
    {
      "cell_type": "code",
      "metadata": {
        "id": "Oeu4JA9YbT57",
        "colab_type": "code",
        "colab": {}
      },
      "source": [
        ""
      ],
      "execution_count": 0,
      "outputs": []
    }
  ]
}