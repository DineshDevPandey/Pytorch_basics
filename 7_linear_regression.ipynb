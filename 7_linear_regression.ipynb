{
  "nbformat": 4,
  "nbformat_minor": 0,
  "metadata": {
    "colab": {
      "name": "7_linear_regression.ipynb",
      "version": "0.3.2",
      "provenance": [],
      "collapsed_sections": [],
      "include_colab_link": true
    },
    "kernelspec": {
      "name": "python3",
      "display_name": "Python 3"
    }
  },
  "cells": [
    {
      "cell_type": "markdown",
      "metadata": {
        "id": "view-in-github",
        "colab_type": "text"
      },
      "source": [
        "<a href=\"https://colab.research.google.com/github/DineshDevPandey/Pytorch_basics/blob/master/7_linear_regression.ipynb\" target=\"_parent\"><img src=\"https://colab.research.google.com/assets/colab-badge.svg\" alt=\"Open In Colab\"/></a>"
      ]
    },
    {
      "cell_type": "code",
      "metadata": {
        "id": "kdgziNb5eJWT",
        "colab_type": "code",
        "colab": {}
      },
      "source": [
        "import torch\n",
        "import numpy as np"
      ],
      "execution_count": 0,
      "outputs": []
    },
    {
      "cell_type": "markdown",
      "metadata": {
        "id": "P6brA88auwc6",
        "colab_type": "text"
      },
      "source": [
        "## Basic idea of linear regression"
      ]
    },
    {
      "cell_type": "markdown",
      "metadata": {
        "id": "4GiQ87J42ES0",
        "colab_type": "text"
      },
      "source": [
        "**Linear Regression :** LR tries to find a optimal line/ plane/ hyperplane which can best fit the dataset dataset. <br>\n",
        "Genaral equation of plane is **y = w<sup>T</sup>x + b**"
      ]
    },
    {
      "cell_type": "code",
      "metadata": {
        "id": "PYao8goleScW",
        "colab_type": "code",
        "colab": {}
      },
      "source": [
        "w = torch.tensor(3.0, requires_grad=True)\n",
        "b = torch.tensor(1.0, requires_grad=True)"
      ],
      "execution_count": 0,
      "outputs": []
    },
    {
      "cell_type": "code",
      "metadata": {
        "id": "fJaQTdO9f8-s",
        "colab_type": "code",
        "colab": {}
      },
      "source": [
        "def forward(x):\n",
        "  y = w*x + b\n",
        "  return y"
      ],
      "execution_count": 0,
      "outputs": []
    },
    {
      "cell_type": "code",
      "metadata": {
        "id": "KlQNRgpngFf2",
        "colab_type": "code",
        "colab": {
          "base_uri": "https://localhost:8080/",
          "height": 51
        },
        "outputId": "f604be74-c703-482f-b86a-3b2367df4775"
      },
      "source": [
        "x = torch.tensor([[2], [3]])\n",
        "print(forward(x))"
      ],
      "execution_count": 170,
      "outputs": [
        {
          "output_type": "stream",
          "text": [
            "tensor([[ 7],\n",
            "        [10]], grad_fn=<AddBackward0>)\n"
          ],
          "name": "stdout"
        }
      ]
    },
    {
      "cell_type": "markdown",
      "metadata": {
        "id": "otMpQgGVvWbD",
        "colab_type": "text"
      },
      "source": [
        "## Better Implementation of LR\n"
      ]
    },
    {
      "cell_type": "code",
      "metadata": {
        "id": "-OQO6QAFvcvJ",
        "colab_type": "code",
        "colab": {}
      },
      "source": [
        "from torch.nn import Linear"
      ],
      "execution_count": 0,
      "outputs": []
    },
    {
      "cell_type": "code",
      "metadata": {
        "id": "lo9S6XfLvpHD",
        "colab_type": "code",
        "colab": {
          "base_uri": "https://localhost:8080/",
          "height": 68
        },
        "outputId": "149ac6cb-a5e1-4f5d-9086-959416d99e3d"
      },
      "source": [
        "torch.manual_seed(1)\n",
        "\n",
        "# linear model takes two param num of input , num of output\n",
        "model = Linear(in_features=1, out_features=1)\n",
        "print(model.bias, model.weight)"
      ],
      "execution_count": 172,
      "outputs": [
        {
          "output_type": "stream",
          "text": [
            "Parameter containing:\n",
            "tensor([-0.4414], requires_grad=True) Parameter containing:\n",
            "tensor([[0.5153]], requires_grad=True)\n"
          ],
          "name": "stdout"
        }
      ]
    },
    {
      "cell_type": "code",
      "metadata": {
        "id": "NsxMs4huwKFx",
        "colab_type": "code",
        "colab": {
          "base_uri": "https://localhost:8080/",
          "height": 51
        },
        "outputId": "0db9cd39-5c09-4ecf-c347-db5e55bd1a14"
      },
      "source": [
        "x = torch.tensor([[3.0], [4.4]])\n",
        "print(model(x))"
      ],
      "execution_count": 173,
      "outputs": [
        {
          "output_type": "stream",
          "text": [
            "tensor([[1.1044],\n",
            "        [1.8258]], grad_fn=<AddmmBackward>)\n"
          ],
          "name": "stdout"
        }
      ]
    },
    {
      "cell_type": "markdown",
      "metadata": {
        "id": "ujrg81UTw781",
        "colab_type": "text"
      },
      "source": [
        "## Even better implementation of LR"
      ]
    },
    {
      "cell_type": "code",
      "metadata": {
        "id": "je9OxjFPxFV6",
        "colab_type": "code",
        "colab": {}
      },
      "source": [
        "import torch.nn as nn\n",
        "\n",
        "# nn.module is a base class for all neural network models\n",
        "\n",
        "class LR(nn.Module):\n",
        "  def __init__(self, input_size, output_size):\n",
        "    super().__init__()\n",
        "    self.linear = nn.Linear(input_size, output_size)\n",
        "    \n",
        "  def forward(self, x):\n",
        "    pred = self.linear(x)\n",
        "    return pred\n"
      ],
      "execution_count": 0,
      "outputs": []
    },
    {
      "cell_type": "code",
      "metadata": {
        "id": "4lYTlgkdyPzq",
        "colab_type": "code",
        "colab": {
          "base_uri": "https://localhost:8080/",
          "height": 51
        },
        "outputId": "01dd0088-ce99-46dd-c31a-c62191297241"
      },
      "source": [
        "torch.manual_seed(1)\n",
        "model = LR(1, 1)\n",
        "\n",
        "x = torch.tensor([[3.0], [4.0]])\n",
        "model.forward(x)"
      ],
      "execution_count": 175,
      "outputs": [
        {
          "output_type": "execute_result",
          "data": {
            "text/plain": [
              "tensor([[1.1044],\n",
              "        [1.6197]], grad_fn=<AddmmBackward>)"
            ]
          },
          "metadata": {
            "tags": []
          },
          "execution_count": 175
        }
      ]
    },
    {
      "cell_type": "code",
      "metadata": {
        "id": "LbCjGtCGuuGI",
        "colab_type": "code",
        "colab": {}
      },
      "source": [
        "[w, b] = model.parameters()\n",
        "def get_params():\n",
        "  return (w[0][0].item(), b[0].item())"
      ],
      "execution_count": 0,
      "outputs": []
    },
    {
      "cell_type": "markdown",
      "metadata": {
        "id": "1vXe7qC35rWy",
        "colab_type": "text"
      },
      "source": [
        "## Create dataset"
      ]
    },
    {
      "cell_type": "code",
      "metadata": {
        "id": "-_3kaXBL5uy6",
        "colab_type": "code",
        "colab": {}
      },
      "source": [
        "import matplotlib.pyplot as plt"
      ],
      "execution_count": 0,
      "outputs": []
    },
    {
      "cell_type": "code",
      "metadata": {
        "id": "qIN5BDmi53tP",
        "colab_type": "code",
        "colab": {
          "base_uri": "https://localhost:8080/",
          "height": 286
        },
        "outputId": "cc93394f-45bd-4468-e960-f85fe68ef82a"
      },
      "source": [
        "# create 100 points from a normal distribution\n",
        "X = torch.randn(100, 1) * 10\n",
        "y = X\n",
        "plt.plot(X.numpy(), y.numpy(), 'o')"
      ],
      "execution_count": 178,
      "outputs": [
        {
          "output_type": "execute_result",
          "data": {
            "text/plain": [
              "[<matplotlib.lines.Line2D at 0x7f9772071470>]"
            ]
          },
          "metadata": {
            "tags": []
          },
          "execution_count": 178
        },
        {
          "output_type": "display_data",
          "data": {
            "image/png": "[encoded data removed]",
            "text/plain": [
              "<Figure size 432x288 with 1 Axes>"
            ]
          },
          "metadata": {
            "tags": []
          }
        }
      ]
    },
    {
      "cell_type": "markdown",
      "metadata": {
        "id": "-qeUitFh7j-2",
        "colab_type": "text"
      },
      "source": [
        "As expected data is appears like a line. Lets add some noice to y values."
      ]
    },
    {
      "cell_type": "code",
      "metadata": {
        "id": "wzQY3WFV7btm",
        "colab_type": "code",
        "colab": {
          "base_uri": "https://localhost:8080/",
          "height": 300
        },
        "outputId": "172baddc-df17-4ca0-f1a5-b83e632ee6bc"
      },
      "source": [
        "# create 100 points from a normal distribution\n",
        "X = torch.randn(100, 1) * 10\n",
        "\n",
        "# add noice to x (data is centered to mean = 0 and var = 1 so multiply it by 3)\n",
        "y = 3 * torch.randn(100, 1) + X\n",
        "plt.plot(X.numpy(), y.numpy(), 'o')\n",
        "plt.ylabel('y')\n",
        "plt.xlabel('X')"
      ],
      "execution_count": 179,
      "outputs": [
        {
          "output_type": "execute_result",
          "data": {
            "text/plain": [
              "Text(0.5, 0, 'X')"
            ]
          },
          "metadata": {
            "tags": []
          },
          "execution_count": 179
        },
        {
          "output_type": "display_data",
          "data": {
            "image/png": "[encoded data removed]",
            "text/plain": [
              "<Figure size 432x288 with 1 Axes>"
            ]
          },
          "metadata": {
            "tags": []
          }
        }
      ]
    },
    {
      "cell_type": "code",
      "metadata": {
        "id": "h2iBSFoACc3v",
        "colab_type": "code",
        "colab": {
          "base_uri": "https://localhost:8080/",
          "height": 303
        },
        "outputId": "bafbf6df-6cd9-4f61-b5fe-34ed5bdbd553"
      },
      "source": [
        "def plot_fit(title):\n",
        "  plt.title = title\n",
        "  w1, b1 =get_params()\n",
        "  print(w1)\n",
        "  print(b1)\n",
        "  x1 = np.array([-30, 30])\n",
        "  y1 = w1 * x1 + b1\n",
        "  \n",
        "  # plot the seperateing line using weight and bias returned by model\n",
        "  plt.plot(x1, y1, 'r')\n",
        "  plt.scatter(X, y)\n",
        "  plt.show()\n",
        "  \n",
        "plot_fit('Initial model')"
      ],
      "execution_count": 180,
      "outputs": [
        {
          "output_type": "stream",
          "text": [
            "0.5152631998062134\n",
            "-0.44137823581695557\n"
          ],
          "name": "stdout"
        },
        {
          "output_type": "display_data",
          "data": {
            "image/png": "[encoded data removed]",
            "text/plain": [
              "<Figure size 432x288 with 1 Axes>"
            ]
          },
          "metadata": {
            "tags": []
          }
        }
      ]
    },
    {
      "cell_type": "markdown",
      "metadata": {
        "id": "sfUXhAycczA0",
        "colab_type": "text"
      },
      "source": [
        "We can clearly see that this is not the line that we are expecting. We need to use **Gradient Descent** to find the optimal line."
      ]
    },
    {
      "cell_type": "markdown",
      "metadata": {
        "id": "MF2fnczdT7Oc",
        "colab_type": "text"
      },
      "source": [
        "## Pytorch linear regression"
      ]
    },
    {
      "cell_type": "code",
      "metadata": {
        "id": "IR5nZmqAEs0H",
        "colab_type": "code",
        "colab": {}
      },
      "source": [
        "# Inbuilt mean square loss\n",
        "criterian = nn.MSELoss()\n",
        "\n",
        "# stochastic gradent descent \n",
        "optimizer = torch.optim.SGD(model.parameters(), lr=0.01)"
      ],
      "execution_count": 0,
      "outputs": []
    },
    {
      "cell_type": "code",
      "metadata": {
        "id": "lGK_SixJU1sz",
        "colab_type": "code",
        "colab": {
          "base_uri": "https://localhost:8080/",
          "height": 1000
        },
        "outputId": "432c3092-0c0a-476d-e9f8-2187115db0dc"
      },
      "source": [
        "# model training\n",
        "\n",
        "epochs = 100\n",
        "losses = []\n",
        "for i in range(epochs):\n",
        "  # make the prediction\n",
        "  y_pred = model.forward(X)\n",
        "  \n",
        "  # calculate loss\n",
        "  loss = criterian(y_pred, y)\n",
        "  print(\"epoch : \", i, \"  loss : \", loss.item())\n",
        "  losses.append(loss)\n",
        "  \n",
        "  # gradients accumulate in each iteration so before recalculating it, set it to zero. \n",
        "  optimizer.zero_grad()\n",
        "  \n",
        "  # to compute the derivative/gradient \n",
        "  loss.backward()\n",
        "  \n",
        "  # after calculating gradients we update the model parameters\n",
        "  optimizer.step()\n"
      ],
      "execution_count": 182,
      "outputs": [
        {
          "output_type": "stream",
          "text": [
            "epoch :  0   loss :  31.370759963989258\n",
            "epoch :  1   loss :  26.57585334777832\n",
            "epoch :  2   loss :  22.768245697021484\n",
            "epoch :  3   loss :  19.744230270385742\n",
            "epoch :  4   loss :  17.342098236083984\n",
            "epoch :  5   loss :  15.433533668518066\n",
            "epoch :  6   loss :  13.916725158691406\n",
            "epoch :  7   loss :  12.710882186889648\n",
            "epoch :  8   loss :  11.751873016357422\n",
            "epoch :  9   loss :  10.988826751708984\n",
            "epoch :  10   loss :  10.381354331970215\n",
            "epoch :  11   loss :  9.897417068481445\n",
            "epoch :  12   loss :  9.511577606201172\n",
            "epoch :  13   loss :  9.203653335571289\n",
            "epoch :  14   loss :  8.957627296447754\n",
            "epoch :  15   loss :  8.760783195495605\n",
            "epoch :  16   loss :  8.603032112121582\n",
            "epoch :  17   loss :  8.476362228393555\n",
            "epoch :  18   loss :  8.37441635131836\n",
            "epoch :  19   loss :  8.292144775390625\n",
            "epoch :  20   loss :  8.225541114807129\n",
            "epoch :  21   loss :  8.171420097351074\n",
            "epoch :  22   loss :  8.1272554397583\n",
            "epoch :  23   loss :  8.09104061126709\n",
            "epoch :  24   loss :  8.061179161071777\n",
            "epoch :  25   loss :  8.036404609680176\n",
            "epoch :  26   loss :  8.015708923339844\n",
            "epoch :  27   loss :  7.998291492462158\n",
            "epoch :  28   loss :  7.983513355255127\n",
            "epoch :  29   loss :  7.9708685874938965\n",
            "epoch :  30   loss :  7.9599528312683105\n",
            "epoch :  31   loss :  7.950443744659424\n",
            "epoch :  32   loss :  7.942084789276123\n",
            "epoch :  33   loss :  7.934670448303223\n",
            "epoch :  34   loss :  7.928036212921143\n",
            "epoch :  35   loss :  7.922051429748535\n",
            "epoch :  36   loss :  7.916609764099121\n",
            "epoch :  37   loss :  7.911626815795898\n",
            "epoch :  38   loss :  7.907034873962402\n",
            "epoch :  39   loss :  7.902777194976807\n",
            "epoch :  40   loss :  7.898809909820557\n",
            "epoch :  41   loss :  7.8950958251953125\n",
            "epoch :  42   loss :  7.891605377197266\n",
            "epoch :  43   loss :  7.888314247131348\n",
            "epoch :  44   loss :  7.8852009773254395\n",
            "epoch :  45   loss :  7.882249355316162\n",
            "epoch :  46   loss :  7.8794450759887695\n",
            "epoch :  47   loss :  7.876775741577148\n",
            "epoch :  48   loss :  7.874230861663818\n",
            "epoch :  49   loss :  7.87180233001709\n",
            "epoch :  50   loss :  7.869481563568115\n",
            "epoch :  51   loss :  7.867262363433838\n",
            "epoch :  52   loss :  7.865138530731201\n",
            "epoch :  53   loss :  7.863104820251465\n",
            "epoch :  54   loss :  7.861155986785889\n",
            "epoch :  55   loss :  7.859288692474365\n",
            "epoch :  56   loss :  7.8574981689453125\n",
            "epoch :  57   loss :  7.855780124664307\n",
            "epoch :  58   loss :  7.854132652282715\n",
            "epoch :  59   loss :  7.8525519371032715\n",
            "epoch :  60   loss :  7.851034641265869\n",
            "epoch :  61   loss :  7.849578380584717\n",
            "epoch :  62   loss :  7.848180770874023\n",
            "epoch :  63   loss :  7.846838474273682\n",
            "epoch :  64   loss :  7.845550537109375\n",
            "epoch :  65   loss :  7.844313144683838\n",
            "epoch :  66   loss :  7.843125820159912\n",
            "epoch :  67   loss :  7.84198522567749\n",
            "epoch :  68   loss :  7.840889930725098\n",
            "epoch :  69   loss :  7.839838027954102\n",
            "epoch :  70   loss :  7.838828086853027\n",
            "epoch :  71   loss :  7.837858200073242\n",
            "epoch :  72   loss :  7.8369269371032715\n",
            "epoch :  73   loss :  7.836032390594482\n",
            "epoch :  74   loss :  7.835173606872559\n",
            "epoch :  75   loss :  7.834348201751709\n",
            "epoch :  76   loss :  7.833556175231934\n",
            "epoch :  77   loss :  7.832795143127441\n",
            "epoch :  78   loss :  7.832064151763916\n",
            "epoch :  79   loss :  7.831362247467041\n",
            "epoch :  80   loss :  7.830687999725342\n",
            "epoch :  81   loss :  7.830040454864502\n",
            "epoch :  82   loss :  7.829418659210205\n",
            "epoch :  83   loss :  7.828821659088135\n",
            "epoch :  84   loss :  7.828247547149658\n",
            "epoch :  85   loss :  7.827696800231934\n",
            "epoch :  86   loss :  7.827167987823486\n",
            "epoch :  87   loss :  7.826659679412842\n",
            "epoch :  88   loss :  7.826171875\n",
            "epoch :  89   loss :  7.825703144073486\n",
            "epoch :  90   loss :  7.825252532958984\n",
            "epoch :  91   loss :  7.824820518493652\n",
            "epoch :  92   loss :  7.824405193328857\n",
            "epoch :  93   loss :  7.8240065574646\n",
            "epoch :  94   loss :  7.823623180389404\n",
            "epoch :  95   loss :  7.82325553894043\n",
            "epoch :  96   loss :  7.822901725769043\n",
            "epoch :  97   loss :  7.8225626945495605\n",
            "epoch :  98   loss :  7.822237014770508\n",
            "epoch :  99   loss :  7.821923732757568\n"
          ],
          "name": "stdout"
        }
      ]
    },
    {
      "cell_type": "code",
      "metadata": {
        "id": "jj23qE4ks_J3",
        "colab_type": "code",
        "colab": {
          "base_uri": "https://localhost:8080/",
          "height": 300
        },
        "outputId": "47025bc1-0f99-4d5d-8b6a-954df981a889"
      },
      "source": [
        "# chage of loss\n",
        "plt.plot(range(epochs), losses)\n",
        "plt.ylabel('Loss')\n",
        "plt.xlabel('epoch')"
      ],
      "execution_count": 183,
      "outputs": [
        {
          "output_type": "execute_result",
          "data": {
            "text/plain": [
              "Text(0.5, 0, 'epoch')"
            ]
          },
          "metadata": {
            "tags": []
          },
          "execution_count": 183
        },
        {
          "output_type": "display_data",
          "data": {
            "image/png": "[encoded data removed]",
            "text/plain": [
              "<Figure size 432x288 with 1 Axes>"
            ]
          },
          "metadata": {
            "tags": []
          }
        }
      ]
    },
    {
      "cell_type": "code",
      "metadata": {
        "id": "XtCBqk3GtLMx",
        "colab_type": "code",
        "colab": {
          "base_uri": "https://localhost:8080/",
          "height": 303
        },
        "outputId": "3b119781-99c0-49c8-ce5b-096e5908f120"
      },
      "source": [
        "plot_fit(\"Trained Model\")"
      ],
      "execution_count": 184,
      "outputs": [
        {
          "output_type": "stream",
          "text": [
            "1.0116064548492432\n",
            "0.1151190772652626\n"
          ],
          "name": "stdout"
        },
        {
          "output_type": "display_data",
          "data": {
            "image/png": "[encoded data removed]",
            "text/plain": [
              "<Figure size 432x288 with 1 Axes>"
            ]
          },
          "metadata": {
            "tags": []
          }
        }
      ]
    },
    {
      "cell_type": "markdown",
      "metadata": {
        "id": "vCbJjHB93Nm5",
        "colab_type": "text"
      },
      "source": [
        "**This is the best fitted line.**"
      ]
    }
  ]
}