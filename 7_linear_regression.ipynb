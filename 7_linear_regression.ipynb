{
  "nbformat": 4,
  "nbformat_minor": 0,
  "metadata": {
    "colab": {
      "name": "7_linear_regression.ipynb",
      "version": "0.3.2",
      "provenance": [],
      "include_colab_link": true
    },
    "kernelspec": {
      "name": "python3",
      "display_name": "Python 3"
    }
  },
  "cells": [
    {
      "cell_type": "markdown",
      "metadata": {
        "id": "view-in-github",
        "colab_type": "text"
      },
      "source": [
        "<a href=\"https://colab.research.google.com/github/DineshDevPandey/Pytorch_basics/blob/master/7_linear_regression.ipynb\" target=\"_parent\"><img src=\"https://colab.research.google.com/assets/colab-badge.svg\" alt=\"Open In Colab\"/></a>"
      ]
    },
    {
      "cell_type": "code",
      "metadata": {
        "id": "kdgziNb5eJWT",
        "colab_type": "code",
        "colab": {}
      },
      "source": [
        "import torch"
      ],
      "execution_count": 0,
      "outputs": []
    },
    {
      "cell_type": "markdown",
      "metadata": {
        "id": "P6brA88auwc6",
        "colab_type": "text"
      },
      "source": [
        "## Basic idea of linear regression"
      ]
    },
    {
      "cell_type": "markdown",
      "metadata": {
        "id": "4GiQ87J42ES0",
        "colab_type": "text"
      },
      "source": [
        "**Linear Regression :** LR tries to find a optimal line/ plane/ hyperplane which can seperate out classes in dataset. <br>\n",
        "Genaral equation of plane is **y = w<sup>T</sup>x + b**"
      ]
    },
    {
      "cell_type": "code",
      "metadata": {
        "id": "PYao8goleScW",
        "colab_type": "code",
        "colab": {}
      },
      "source": [
        "w = torch.tensor(3.0, requires_grad=True)\n",
        "b = torch.tensor(1.0, requires_grad=True)"
      ],
      "execution_count": 0,
      "outputs": []
    },
    {
      "cell_type": "code",
      "metadata": {
        "id": "fJaQTdO9f8-s",
        "colab_type": "code",
        "colab": {}
      },
      "source": [
        "def forward(x):\n",
        "  y = w*x + b\n",
        "  return y"
      ],
      "execution_count": 0,
      "outputs": []
    },
    {
      "cell_type": "code",
      "metadata": {
        "id": "KlQNRgpngFf2",
        "colab_type": "code",
        "colab": {
          "base_uri": "https://localhost:8080/",
          "height": 51
        },
        "outputId": "1e82dcef-0be7-4b0c-9c28-1951758a1bb7"
      },
      "source": [
        "x = torch.tensor([[2], [3]])\n",
        "print(forward(x))"
      ],
      "execution_count": 15,
      "outputs": [
        {
          "output_type": "stream",
          "text": [
            "tensor([[ 7],\n",
            "        [10]], grad_fn=<AddBackward0>)\n"
          ],
          "name": "stdout"
        }
      ]
    },
    {
      "cell_type": "markdown",
      "metadata": {
        "id": "otMpQgGVvWbD",
        "colab_type": "text"
      },
      "source": [
        "## Better Implementation of LR\n"
      ]
    },
    {
      "cell_type": "code",
      "metadata": {
        "id": "-OQO6QAFvcvJ",
        "colab_type": "code",
        "colab": {}
      },
      "source": [
        "from torch.nn import Linear"
      ],
      "execution_count": 0,
      "outputs": []
    },
    {
      "cell_type": "code",
      "metadata": {
        "id": "lo9S6XfLvpHD",
        "colab_type": "code",
        "colab": {
          "base_uri": "https://localhost:8080/",
          "height": 68
        },
        "outputId": "7a3e1d39-7fa2-4c0f-9785-77aa1d8d06ca"
      },
      "source": [
        "torch.manual_seed(1)\n",
        "\n",
        "# linear model takes two param num of input , num of output\n",
        "model = Linear(in_features=1, out_features=1)\n",
        "print(model.bias, model.weight)"
      ],
      "execution_count": 18,
      "outputs": [
        {
          "output_type": "stream",
          "text": [
            "Parameter containing:\n",
            "tensor([-0.4414], requires_grad=True) Parameter containing:\n",
            "tensor([[0.5153]], requires_grad=True)\n"
          ],
          "name": "stdout"
        }
      ]
    },
    {
      "cell_type": "code",
      "metadata": {
        "id": "NsxMs4huwKFx",
        "colab_type": "code",
        "colab": {
          "base_uri": "https://localhost:8080/",
          "height": 51
        },
        "outputId": "144a2357-3a1b-4bad-c782-6b1185cf466b"
      },
      "source": [
        "x = torch.tensor([[3.0], [4.4]])\n",
        "print(model(x))"
      ],
      "execution_count": 20,
      "outputs": [
        {
          "output_type": "stream",
          "text": [
            "tensor([[1.1044],\n",
            "        [1.8258]], grad_fn=<AddmmBackward>)\n"
          ],
          "name": "stdout"
        }
      ]
    },
    {
      "cell_type": "markdown",
      "metadata": {
        "id": "ujrg81UTw781",
        "colab_type": "text"
      },
      "source": [
        "## Even better implementation of LR"
      ]
    },
    {
      "cell_type": "code",
      "metadata": {
        "id": "je9OxjFPxFV6",
        "colab_type": "code",
        "colab": {}
      },
      "source": [
        "import torch.nn as nn\n",
        "\n",
        "# nn.module is a base class for all neural network models\n",
        "\n",
        "class LR(nn.Module):\n",
        "  def __init__(self, input_size, output_size):\n",
        "    super().__init__()\n",
        "    self.linear = nn.Linear(input_size, output_size)\n",
        "    \n",
        "  def forward(self, x):\n",
        "    pred = self.linear(x)\n",
        "    return pred\n",
        "    "
      ],
      "execution_count": 0,
      "outputs": []
    },
    {
      "cell_type": "code",
      "metadata": {
        "id": "4lYTlgkdyPzq",
        "colab_type": "code",
        "colab": {
          "base_uri": "https://localhost:8080/",
          "height": 51
        },
        "outputId": "538c3939-416d-4aa0-d9aa-ec74f88d7676"
      },
      "source": [
        "torch.manual_seed(4)\n",
        "model = LR(1, 1)\n",
        "\n",
        "x = torch.tensor([[3.0], [4.0]])\n",
        "model.forward(x)"
      ],
      "execution_count": 35,
      "outputs": [
        {
          "output_type": "execute_result",
          "data": {
            "text/plain": [
              "tensor([[0.4760],\n",
              "        [0.5953]], grad_fn=<AddmmBackward>)"
            ]
          },
          "metadata": {
            "tags": []
          },
          "execution_count": 35
        }
      ]
    },
    {
      "cell_type": "code",
      "metadata": {
        "id": "Li3ugk7l0STm",
        "colab_type": "code",
        "colab": {}
      },
      "source": [
        ""
      ],
      "execution_count": 0,
      "outputs": []
    }
  ]
}