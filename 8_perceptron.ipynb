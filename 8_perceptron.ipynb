{
  "nbformat": 4,
  "nbformat_minor": 0,
  "metadata": {
    "colab": {
      "name": "8_perceptron.ipynb",
      "version": "0.3.2",
      "provenance": [],
      "collapsed_sections": [],
      "include_colab_link": true
    },
    "kernelspec": {
      "name": "python3",
      "display_name": "Python 3"
    }
  },
  "cells": [
    {
      "cell_type": "markdown",
      "metadata": {
        "id": "view-in-github",
        "colab_type": "text"
      },
      "source": [
        "<a href=\"https://colab.research.google.com/github/DineshDevPandey/Pytorch_basics/blob/master/8_perceptron.ipynb\" target=\"_parent\"><img src=\"https://colab.research.google.com/assets/colab-badge.svg\" alt=\"Open In Colab\"/></a>"
      ]
    },
    {
      "cell_type": "code",
      "metadata": {
        "id": "IbBl4kdRwFi5",
        "colab_type": "code",
        "colab": {}
      },
      "source": [
        "import torch\n",
        "import matplotlib.pyplot as plt\n",
        "from sklearn import datasets\n",
        "import numpy as np\n",
        "import torch.nn as nn"
      ],
      "execution_count": 0,
      "outputs": []
    },
    {
      "cell_type": "markdown",
      "metadata": {
        "id": "SGO1IQxNStck",
        "colab_type": "text"
      },
      "source": [
        "## Generate dataset"
      ]
    },
    {
      "cell_type": "code",
      "metadata": {
        "id": "qiV8ZF9KzogY",
        "colab_type": "code",
        "colab": {}
      },
      "source": [
        "def generate_dataset(n_pts):\n",
        "\n",
        "  # how many cluster you want(number of classes are there)\n",
        "  centers = [[-0.5, 0.5],[0.5, -0.5]]\n",
        "  X, y = datasets.make_blobs(n_samples=n_pts, random_state=123, centers=centers, cluster_std=0.4)\n",
        "  plt.scatter(X[y==0, 0], X[y==0, 1])\n",
        "  plt.scatter(X[y==1, 0], X[y==1, 1])\n",
        "  x_data = torch.Tensor(X)\n",
        "  y_data = torch.Tensor(y.reshape(100, 1))\n",
        "  return (x_data, y_data, X, y)\n"
      ],
      "execution_count": 0,
      "outputs": []
    },
    {
      "cell_type": "markdown",
      "metadata": {
        "id": "cNMmJyqQSjaK",
        "colab_type": "text"
      },
      "source": [
        "## Linear model class"
      ]
    },
    {
      "cell_type": "code",
      "metadata": {
        "id": "4Mcy_iZa81L3",
        "colab_type": "code",
        "colab": {}
      },
      "source": [
        "class Model(nn.Module):\n",
        "  def __init__(self, input_size, output_size):\n",
        "    super().__init__()\n",
        "    self.linear = nn.Linear(input_size, output_size)\n",
        "    \n",
        "  def forward(self, x):\n",
        "    pred = torch.sigmoid(self.linear(x))\n",
        "    return pred"
      ],
      "execution_count": 0,
      "outputs": []
    },
    {
      "cell_type": "markdown",
      "metadata": {
        "id": "w4ynDayhTn40",
        "colab_type": "text"
      },
      "source": [
        "Equetion of line : x1*w1 + x2*w2 = b <br>we have got w1 = 0.1622, w2 = -0.1683 and b = 0.1939 <br>These are random weights before training\n"
      ]
    },
    {
      "cell_type": "markdown",
      "metadata": {
        "id": "Pq2UF6608CDA",
        "colab_type": "text"
      },
      "source": [
        "## Get models parameters\n"
      ]
    },
    {
      "cell_type": "code",
      "metadata": {
        "id": "5Q2BB1YBTYwK",
        "colab_type": "code",
        "colab": {}
      },
      "source": [
        "def get_param(model):\n",
        "  [w, b] = model.parameters()\n",
        "  # take weights in separate variable\n",
        "  w1, w2 = w.view(2)\n",
        "  return(w1.item(), w2.item(), b[0].item())"
      ],
      "execution_count": 0,
      "outputs": []
    },
    {
      "cell_type": "markdown",
      "metadata": {
        "id": "clbUZrry8LQw",
        "colab_type": "text"
      },
      "source": [
        "## draw scatter plot"
      ]
    },
    {
      "cell_type": "code",
      "metadata": {
        "id": "IbYkrpaFwkAb",
        "colab_type": "code",
        "colab": {}
      },
      "source": [
        "def scatter_plot(X, y):\n",
        "  plt.scatter(X[y==0, 0], X[y==0, 1])\n",
        "  plt.scatter(X[y==1, 0], X[y==1, 1])"
      ],
      "execution_count": 0,
      "outputs": []
    },
    {
      "cell_type": "markdown",
      "metadata": {
        "id": "o4hXhVQ48POW",
        "colab_type": "text"
      },
      "source": [
        "## draw decision line and scatter plot"
      ]
    },
    {
      "cell_type": "code",
      "metadata": {
        "id": "UlXxu2ZBUtUm",
        "colab_type": "code",
        "colab": {}
      },
      "source": [
        "def plot_fit(model, title, X, y):\n",
        "  plt.title = title\n",
        "  w1, w2, b1 = get_param(model)\n",
        "  x1 = np.array([-2, 2])\n",
        "  x2 = (w1*x1 + b1)/(-w2)\n",
        "  plt.plot(x1, x2, 'r')\n",
        "  scatter_plot(X, y)\n",
        "  plt.show()\n"
      ],
      "execution_count": 0,
      "outputs": []
    },
    {
      "cell_type": "markdown",
      "metadata": {
        "id": "fOWSWMWW8X00",
        "colab_type": "text"
      },
      "source": [
        "## Create model"
      ]
    },
    {
      "cell_type": "code",
      "metadata": {
        "id": "W9now9uNZcse",
        "colab_type": "code",
        "outputId": "7f88cad1-4cd8-494d-bfad-d4d460dbf78c",
        "colab": {
          "base_uri": "https://localhost:8080/",
          "height": 269
        }
      },
      "source": [
        "torch.manual_seed(2)\n",
        "x_data, y_data, X, y = generate_dataset(n_pts=100)\n",
        "model = Model(2, 1)\n",
        "plot_fit(model, 'Initial model', X, y)"
      ],
      "execution_count": 50,
      "outputs": [
        {
          "output_type": "display_data",
          "data": {
            "image/png": "[encoded data removed]",
            "text/plain": [
              "<Figure size 432x288 with 1 Axes>"
            ]
          },
          "metadata": {
            "tags": []
          }
        }
      ]
    },
    {
      "cell_type": "markdown",
      "metadata": {
        "id": "QhAfHOp6-EYb",
        "colab_type": "text"
      },
      "source": [
        "## Defining loss and optimizer function"
      ]
    },
    {
      "cell_type": "code",
      "metadata": {
        "id": "HFdrpy428x0f",
        "colab_type": "code",
        "colab": {}
      },
      "source": [
        "# binary cross entropy loss\n",
        "criterion = nn.BCELoss()\n",
        "optimizer = torch.optim.SGD(model.parameters(), lr=0.01)"
      ],
      "execution_count": 0,
      "outputs": []
    },
    {
      "cell_type": "markdown",
      "metadata": {
        "id": "aK9IYgJR-PES",
        "colab_type": "text"
      },
      "source": [
        "## NN training"
      ]
    },
    {
      "cell_type": "code",
      "metadata": {
        "id": "Hv8gTKNf80Yu",
        "colab_type": "code",
        "colab": {}
      },
      "source": [
        "epochs = 10000\n",
        "losses = []\n",
        "for i in range(epochs):\n",
        "    y_pred = model.forward(x_data)\n",
        "    loss = criterion(y_pred, y_data)\n",
        "    print('epoch: ', i, 'loss ', loss.item())\n",
        "\n",
        "    losses.append(loss.item())\n",
        "    optimizer.zero_grad()\n",
        "    loss.backward()\n",
        "    optimizer.step()"
      ],
      "execution_count": 0,
      "outputs": []
    },
    {
      "cell_type": "markdown",
      "metadata": {
        "id": "skqjuCrp-VX6",
        "colab_type": "text"
      },
      "source": [
        "## Loss plot"
      ]
    },
    {
      "cell_type": "code",
      "metadata": {
        "id": "1qnEO96UxCs4",
        "colab_type": "code",
        "colab": {
          "base_uri": "https://localhost:8080/",
          "height": 283
        },
        "outputId": "2a797211-8ee9-4fd8-9533-5cfb4a292792"
      },
      "source": [
        "plt.plot(range(epochs), losses)\n",
        "plt.ylabel('Loss')\n",
        "plt.xlabel('epoch')\n",
        "plt.grid()"
      ],
      "execution_count": 53,
      "outputs": [
        {
          "output_type": "display_data",
          "data": {
            "image/png": "[encoded data removed]",
            "text/plain": [
              "<Figure size 432x288 with 1 Axes>"
            ]
          },
          "metadata": {
            "tags": []
          }
        }
      ]
    },
    {
      "cell_type": "markdown",
      "metadata": {
        "id": "Wk39XM4k-Z61",
        "colab_type": "text"
      },
      "source": [
        "## Final descision plane"
      ]
    },
    {
      "cell_type": "code",
      "metadata": {
        "id": "3yYYYCKZ7UWZ",
        "colab_type": "code",
        "colab": {
          "base_uri": "https://localhost:8080/",
          "height": 269
        },
        "outputId": "9e41a26b-48e6-4eaa-d4b8-9b79bfb24c6e"
      },
      "source": [
        "plot_fit(model, \"Trained Model\", X, y)"
      ],
      "execution_count": 54,
      "outputs": [
        {
          "output_type": "display_data",
          "data": {
            "image/png": "[encoded data removed]",
            "text/plain": [
              "<Figure size 432x288 with 1 Axes>"
            ]
          },
          "metadata": {
            "tags": []
          }
        }
      ]
    }
  ]
}