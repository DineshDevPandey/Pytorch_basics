{
  "nbformat": 4,
  "nbformat_minor": 0,
  "metadata": {
    "colab": {
      "name": "4_pytorch_tensor_3d.ipynb",
      "version": "0.3.2",
      "provenance": [],
      "include_colab_link": true
    },
    "kernelspec": {
      "name": "python3",
      "display_name": "Python 3"
    }
  },
  "cells": [
    {
      "cell_type": "markdown",
      "metadata": {
        "id": "view-in-github",
        "colab_type": "text"
      },
      "source": [
        "<a href=\"https://colab.research.google.com/github/DineshDevPandey/Pytorch_basics/blob/master/4_pytorch_tensor_3d.ipynb\" target=\"_parent\"><img src=\"https://colab.research.google.com/assets/colab-badge.svg\" alt=\"Open In Colab\"/></a>"
      ]
    },
    {
      "cell_type": "code",
      "metadata": {
        "id": "eDG3wX0cy5t8",
        "colab_type": "code",
        "colab": {}
      },
      "source": [
        "import torch"
      ],
      "execution_count": 0,
      "outputs": []
    },
    {
      "cell_type": "markdown",
      "metadata": {
        "id": "ygBDfu6T1K1M",
        "colab_type": "text"
      },
      "source": [
        "# 3D Tensor initialization \n"
      ]
    },
    {
      "cell_type": "code",
      "metadata": {
        "id": "UAKrynNwzQxC",
        "colab_type": "code",
        "colab": {
          "base_uri": "https://localhost:8080/",
          "height": 153
        },
        "outputId": "32e58daf-e8f6-4b80-9ead-847dfae120a3"
      },
      "source": [
        "three_d = torch.arange(18).view(3,2,3)\n",
        "three_d"
      ],
      "execution_count": 3,
      "outputs": [
        {
          "output_type": "execute_result",
          "data": {
            "text/plain": [
              "tensor([[[ 0,  1,  2],\n",
              "         [ 3,  4,  5]],\n",
              "\n",
              "        [[ 6,  7,  8],\n",
              "         [ 9, 10, 11]],\n",
              "\n",
              "        [[12, 13, 14],\n",
              "         [15, 16, 17]]])"
            ]
          },
          "metadata": {
            "tags": []
          },
          "execution_count": 3
        }
      ]
    },
    {
      "cell_type": "markdown",
      "metadata": {
        "id": "udupYpp81Va_",
        "colab_type": "text"
      },
      "source": [
        "# 3D tensor slicing"
      ]
    },
    {
      "cell_type": "code",
      "metadata": {
        "id": "eM7evdU0zecx",
        "colab_type": "code",
        "colab": {
          "base_uri": "https://localhost:8080/",
          "height": 34
        },
        "outputId": "b850fdcd-c26b-4b75-bd1b-ff842dd08c08"
      },
      "source": [
        "three_d[1, 1, 1]"
      ],
      "execution_count": 4,
      "outputs": [
        {
          "output_type": "execute_result",
          "data": {
            "text/plain": [
              "tensor(10)"
            ]
          },
          "metadata": {
            "tags": []
          },
          "execution_count": 4
        }
      ]
    },
    {
      "cell_type": "code",
      "metadata": {
        "id": "r5eg3lOfzuP6",
        "colab_type": "code",
        "colab": {
          "base_uri": "https://localhost:8080/",
          "height": 34
        },
        "outputId": "6c2ddfde-f0b1-457a-9458-154e17c3fe79"
      },
      "source": [
        "three_d[2][1][2]"
      ],
      "execution_count": 5,
      "outputs": [
        {
          "output_type": "execute_result",
          "data": {
            "text/plain": [
              "tensor(17)"
            ]
          },
          "metadata": {
            "tags": []
          },
          "execution_count": 5
        }
      ]
    },
    {
      "cell_type": "code",
      "metadata": {
        "id": "ZCqBy3DGz43q",
        "colab_type": "code",
        "colab": {
          "base_uri": "https://localhost:8080/",
          "height": 34
        },
        "outputId": "c8dbc730-a54e-402e-c345-5d13f534ff5f"
      },
      "source": [
        "three_d[2, 1:, :]"
      ],
      "execution_count": 6,
      "outputs": [
        {
          "output_type": "execute_result",
          "data": {
            "text/plain": [
              "tensor([[15, 16, 17]])"
            ]
          },
          "metadata": {
            "tags": []
          },
          "execution_count": 6
        }
      ]
    },
    {
      "cell_type": "markdown",
      "metadata": {
        "id": "4F4SYjhh1Z60",
        "colab_type": "text"
      },
      "source": [
        "# 3D tensor arithmetic"
      ]
    },
    {
      "cell_type": "code",
      "metadata": {
        "id": "a-JBoYPI0nEV",
        "colab_type": "code",
        "colab": {
          "base_uri": "https://localhost:8080/",
          "height": 153
        },
        "outputId": "aed89008-216a-4403-d95f-878381841732"
      },
      "source": [
        "three_d_1 = torch.arange(18).view(3,2,3)\n",
        "three_d_1"
      ],
      "execution_count": 7,
      "outputs": [
        {
          "output_type": "execute_result",
          "data": {
            "text/plain": [
              "tensor([[[ 0,  1,  2],\n",
              "         [ 3,  4,  5]],\n",
              "\n",
              "        [[ 6,  7,  8],\n",
              "         [ 9, 10, 11]],\n",
              "\n",
              "        [[12, 13, 14],\n",
              "         [15, 16, 17]]])"
            ]
          },
          "metadata": {
            "tags": []
          },
          "execution_count": 7
        }
      ]
    },
    {
      "cell_type": "code",
      "metadata": {
        "id": "EcSralDw0ufi",
        "colab_type": "code",
        "colab": {
          "base_uri": "https://localhost:8080/",
          "height": 153
        },
        "outputId": "dce1855f-d391-49f5-df7d-b2a1946dc463"
      },
      "source": [
        "three_d_2 = torch.arange(10, 28).view(3,2,3)\n",
        "three_d_2"
      ],
      "execution_count": 8,
      "outputs": [
        {
          "output_type": "execute_result",
          "data": {
            "text/plain": [
              "tensor([[[10, 11, 12],\n",
              "         [13, 14, 15]],\n",
              "\n",
              "        [[16, 17, 18],\n",
              "         [19, 20, 21]],\n",
              "\n",
              "        [[22, 23, 24],\n",
              "         [25, 26, 27]]])"
            ]
          },
          "metadata": {
            "tags": []
          },
          "execution_count": 8
        }
      ]
    },
    {
      "cell_type": "code",
      "metadata": {
        "id": "bGyF_eih01k_",
        "colab_type": "code",
        "colab": {
          "base_uri": "https://localhost:8080/",
          "height": 153
        },
        "outputId": "eb4810b4-6c1a-4458-f7b5-14d06d62102b"
      },
      "source": [
        "three_d_sum = three_d_1 + three_d_2\n",
        "three_d_sum"
      ],
      "execution_count": 9,
      "outputs": [
        {
          "output_type": "execute_result",
          "data": {
            "text/plain": [
              "tensor([[[10, 12, 14],\n",
              "         [16, 18, 20]],\n",
              "\n",
              "        [[22, 24, 26],\n",
              "         [28, 30, 32]],\n",
              "\n",
              "        [[34, 36, 38],\n",
              "         [40, 42, 44]]])"
            ]
          },
          "metadata": {
            "tags": []
          },
          "execution_count": 9
        }
      ]
    },
    {
      "cell_type": "code",
      "metadata": {
        "id": "HLd6GKoz1BF9",
        "colab_type": "code",
        "colab": {
          "base_uri": "https://localhost:8080/",
          "height": 153
        },
        "outputId": "60d72dbc-9967-4e58-dd2e-6729c7ae684d"
      },
      "source": [
        "three_d_mul = three_d_1 * three_d_2\n",
        "three_d_mul"
      ],
      "execution_count": 10,
      "outputs": [
        {
          "output_type": "execute_result",
          "data": {
            "text/plain": [
              "tensor([[[  0,  11,  24],\n",
              "         [ 39,  56,  75]],\n",
              "\n",
              "        [[ 96, 119, 144],\n",
              "         [171, 200, 231]],\n",
              "\n",
              "        [[264, 299, 336],\n",
              "         [375, 416, 459]]])"
            ]
          },
          "metadata": {
            "tags": []
          },
          "execution_count": 10
        }
      ]
    },
    {
      "cell_type": "code",
      "metadata": {
        "id": "ImZSAjCd1Ing",
        "colab_type": "code",
        "colab": {}
      },
      "source": [
        ""
      ],
      "execution_count": 0,
      "outputs": []
    }
  ]
}