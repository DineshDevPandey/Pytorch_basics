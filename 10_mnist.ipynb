{
  "nbformat": 4,
  "nbformat_minor": 0,
  "metadata": {
    "colab": {
      "name": "10_mnist.ipynb",
      "version": "0.3.2",
      "provenance": [],
      "include_colab_link": true
    },
    "kernelspec": {
      "name": "python3",
      "display_name": "Python 3"
    }
  },
  "cells": [
    {
      "cell_type": "markdown",
      "metadata": {
        "id": "view-in-github",
        "colab_type": "text"
      },
      "source": [
        "<a href=\"https://colab.research.google.com/github/DineshDevPandey/Pytorch_basics/blob/master/10_mnist.ipynb\" target=\"_parent\"><img src=\"https://colab.research.google.com/assets/colab-badge.svg\" alt=\"Open In Colab\"/></a>"
      ]
    },
    {
      "cell_type": "code",
      "metadata": {
        "id": "lxkPPy0Doqqb",
        "colab_type": "code",
        "colab": {
          "base_uri": "https://localhost:8080/",
          "height": 119
        },
        "outputId": "6a07c13d-0eb0-4f80-b868-c2f347b4669a"
      },
      "source": [
        "!pip install torchvision"
      ],
      "execution_count": 45,
      "outputs": [
        {
          "output_type": "stream",
          "text": [
            "Requirement already satisfied: torchvision in /usr/local/lib/python3.6/dist-packages (0.3.0)\n",
            "Requirement already satisfied: six in /usr/local/lib/python3.6/dist-packages (from torchvision) (1.12.0)\n",
            "Requirement already satisfied: numpy in /usr/local/lib/python3.6/dist-packages (from torchvision) (1.16.4)\n",
            "Requirement already satisfied: torch>=1.1.0 in /usr/local/lib/python3.6/dist-packages (from torchvision) (1.1.0)\n",
            "Requirement already satisfied: pillow>=4.1.1 in /usr/local/lib/python3.6/dist-packages (from torchvision) (4.3.0)\n",
            "Requirement already satisfied: olefile in /usr/local/lib/python3.6/dist-packages (from pillow>=4.1.1->torchvision) (0.46)\n"
          ],
          "name": "stdout"
        }
      ]
    },
    {
      "cell_type": "code",
      "metadata": {
        "id": "pVFs-eEBoymI",
        "colab_type": "code",
        "colab": {}
      },
      "source": [
        "import torch \n",
        "import matplotlib.pyplot as plt\n",
        "import numpy as np\n",
        "from torchvision import datasets, transforms \n",
        "# torchvision contains datasets and transformations performed on these datasets"
      ],
      "execution_count": 0,
      "outputs": []
    },
    {
      "cell_type": "code",
      "metadata": {
        "id": "lEg461TipSjc",
        "colab_type": "code",
        "colab": {
          "base_uri": "https://localhost:8080/",
          "height": 85
        },
        "outputId": "55296ca1-6cd0-4dd3-eca8-482d4c9eec8f"
      },
      "source": [
        "# MNIST images are grey scale 28x28 = 784 pixel image. each pixel value ranges from 0 to 255\n",
        "# compose allows us to chain transformations togather\n",
        "transform = transforms.Compose(\n",
        "    [\n",
        "        transforms.ToTensor(), # we need to change this numpy array to tensor, \n",
        "        # it changes np array of range 0-255 to float tensor of 0-1 range\n",
        "        # which characteize images (channel, height and width)\n",
        "        transforms.Normalize((0.5,), (0.5,)) \n",
        "        # first (0.5,) (corrosponding to (channel)): is mean\n",
        "        # second (0.5,) (corrosponding to (channel)): is std-dev\n",
        "        # we want to change out tensor range form 0-1 to -1 to 1\n",
        "        # normalization helps to reduce the skewness and distortion \n",
        "    ]\n",
        "    )\n",
        "training_dataset = datasets.MNIST(\n",
        "        root='./data',  # root dir for downloaded dataset\n",
        "        train=True,     # to initilize MNIST training dataset\n",
        "        download=True,  # download data\n",
        "        transform=transform\n",
        "    )\n",
        "\n",
        "# In each epoch we send all data, sending 60k images in one epoch is not good for a normal processor health\n",
        "# so we use training downloader to send data in batches, 100 imagese in one epoch\n",
        "training_loader = torch.utils.data.DataLoader(training_dataset, batch_size=100, shuffle=True)\n",
        "\n",
        "training_dataset"
      ],
      "execution_count": 47,
      "outputs": [
        {
          "output_type": "execute_result",
          "data": {
            "text/plain": [
              "Dataset MNIST\n",
              "    Number of datapoints: 60000\n",
              "    Root location: ./data\n",
              "    Split: Train"
            ]
          },
          "metadata": {
            "tags": []
          },
          "execution_count": 47
        }
      ]
    },
    {
      "cell_type": "code",
      "metadata": {
        "id": "-5kk5HSxxMBF",
        "colab_type": "code",
        "colab": {}
      },
      "source": [
        "def img_convert(tensor):\n",
        "    # In order to enable automatic differentiation, PyTorch keeps track of all operations \n",
        "    # involving tensors for which the gradient may need to be computed \n",
        "    # (i.e., require_grad is True). The operations are recorded as a directed graph. \n",
        "    # The detach() method constructs a new view on a tensor which is declared not to need gradients,\n",
        "    image = tensor.clone().detach().numpy()\n",
        "    # each image is a grey_scale means channel=1, width=28, height=28, to plot an image we need 28x28x1 shape\n",
        "    image = image.transpose(1, 2, 0) # modified axis order\n",
        "    # denormalize image multiply by std and add mean\n",
        "    print(image.shape)\n",
        "    image = image * np.array((0.5, 0.5, 0.5)) + np.array((0.5, 0.5, 0.5))\n",
        "    # pixel value change from [-1, 1] to [0, 1]\n",
        "    image = image.clip(0, 1)\n",
        "    return image"
      ],
      "execution_count": 0,
      "outputs": []
    },
    {
      "cell_type": "code",
      "metadata": {
        "id": "GvIZPsBQ0Kj0",
        "colab_type": "code",
        "colab": {
          "base_uri": "https://localhost:8080/",
          "height": 608
        },
        "outputId": "449bac93-afd7-43f3-ad97-06db2c1fa3ca"
      },
      "source": [
        "# To make training_loader iterable, 1 element at a time\n",
        "dataiter = iter(training_loader)\n",
        "# grab first batch of training data\n",
        "images, labels = dataiter.next()\n",
        "fig = plt.figure(figsize=(25, 4))\n",
        "\n",
        "for idx in np.arange(20):\n",
        "  ax = fig.add_subplot(2, 10, idx+1, xticks=[], yticks=[])\n",
        "  plt.imshow(img_convert(images[idx]))\n",
        "  ax.set_title([labels[idx].item()])"
      ],
      "execution_count": 49,
      "outputs": [
        {
          "output_type": "stream",
          "text": [
            "(28, 28, 1)\n",
            "(28, 28, 1)\n",
            "(28, 28, 1)\n",
            "(28, 28, 1)\n",
            "(28, 28, 1)\n",
            "(28, 28, 1)\n",
            "(28, 28, 1)\n",
            "(28, 28, 1)\n",
            "(28, 28, 1)\n",
            "(28, 28, 1)\n",
            "(28, 28, 1)\n",
            "(28, 28, 1)\n",
            "(28, 28, 1)\n",
            "(28, 28, 1)\n",
            "(28, 28, 1)\n",
            "(28, 28, 1)\n",
            "(28, 28, 1)\n",
            "(28, 28, 1)\n",
            "(28, 28, 1)\n",
            "(28, 28, 1)\n"
          ],
          "name": "stdout"
        },
        {
          "output_type": "display_data",
          "data": {
            "image/png": "[encoded data removed]",
            "text/plain": [
              "<Figure size 1800x288 with 20 Axes>"
            ]
          },
          "metadata": {
            "tags": []
          }
        }
      ]
    },
    {
      "cell_type": "code",
      "metadata": {
        "id": "b0oX_2AQ49RA",
        "colab_type": "code",
        "colab": {}
      },
      "source": [
        ""
      ],
      "execution_count": 0,
      "outputs": []
    }
  ]
}