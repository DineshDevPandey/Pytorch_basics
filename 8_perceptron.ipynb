{
  "nbformat": 4,
  "nbformat_minor": 0,
  "metadata": {
    "colab": {
      "name": "8_perceptron.ipynb",
      "version": "0.3.2",
      "provenance": [],
      "include_colab_link": true
    },
    "kernelspec": {
      "name": "python3",
      "display_name": "Python 3"
    }
  },
  "cells": [
    {
      "cell_type": "markdown",
      "metadata": {
        "id": "view-in-github",
        "colab_type": "text"
      },
      "source": [
        "<a href=\"https://colab.research.google.com/github/DineshDevPandey/Pytorch_basics/blob/master/8_perceptron.ipynb\" target=\"_parent\"><img src=\"https://colab.research.google.com/assets/colab-badge.svg\" alt=\"Open In Colab\"/></a>"
      ]
    },
    {
      "cell_type": "code",
      "metadata": {
        "id": "IbBl4kdRwFi5",
        "colab_type": "code",
        "colab": {}
      },
      "source": [
        "import torch\n",
        "import matplotlib.pyplot as plt\n",
        "from sklearn import datasets\n",
        "import numpy as np\n",
        "import torch.nn as nn"
      ],
      "execution_count": 0,
      "outputs": []
    },
    {
      "cell_type": "markdown",
      "metadata": {
        "id": "SGO1IQxNStck",
        "colab_type": "text"
      },
      "source": [
        "## Generate dataset"
      ]
    },
    {
      "cell_type": "code",
      "metadata": {
        "id": "qiV8ZF9KzogY",
        "colab_type": "code",
        "colab": {}
      },
      "source": [
        "def generate_dataset(n_pts):\n",
        "\n",
        "  # how many cluster you want(number of classes are there)\n",
        "  centers = [[-0.5, 0.5],[0.5, -0.5]]\n",
        "  X, y = datasets.make_blobs(n_samples=n_pts, random_state=123, centers=centers, cluster_std=0.4)\n",
        "  plt.scatter(X[y==0, 0], X[y==0, 1])\n",
        "  plt.scatter(X[y==1, 0], X[y==1, 1])"
      ],
      "execution_count": 0,
      "outputs": []
    },
    {
      "cell_type": "markdown",
      "metadata": {
        "id": "cNMmJyqQSjaK",
        "colab_type": "text"
      },
      "source": [
        "## Linear model class"
      ]
    },
    {
      "cell_type": "code",
      "metadata": {
        "id": "4Mcy_iZa81L3",
        "colab_type": "code",
        "colab": {}
      },
      "source": [
        "class Model(nn.Module):\n",
        "  def __init__(self, input_size, output_size):\n",
        "    super().__init__()\n",
        "    self.linear = nn.Linear(input_size, output_size)\n",
        "    \n",
        "  def forward(self, x):\n",
        "    pred = torch.sigmoid(self.linear(x))\n",
        "    return pred"
      ],
      "execution_count": 0,
      "outputs": []
    },
    {
      "cell_type": "markdown",
      "metadata": {
        "id": "w4ynDayhTn40",
        "colab_type": "text"
      },
      "source": [
        "Equetion of line : x1*w1 + x2*w2 = b <br>we have got w1 = 0.1622, w2 = -0.1683 and b = 0.1939 <br>These are random weights before training\n"
      ]
    },
    {
      "cell_type": "code",
      "metadata": {
        "id": "5Q2BB1YBTYwK",
        "colab_type": "code",
        "colab": {}
      },
      "source": [
        "def get_param(model):\n",
        "  [w, b] = model.parameters()\n",
        "\n",
        "  # take weights in separate variable\n",
        "  w1, w2 = w.view(2)\n",
        "  b1 = b[0]\n",
        "  return(w1.item(), w2.item(), b.item())"
      ],
      "execution_count": 0,
      "outputs": []
    },
    {
      "cell_type": "code",
      "metadata": {
        "id": "UlXxu2ZBUtUm",
        "colab_type": "code",
        "colab": {}
      },
      "source": [
        "\n",
        "def plot_fit(model, title):\n",
        "  plt.title = title\n",
        "  w1, w2, b1 = get_param(model)\n",
        "  x1 = np.array([-2, 2])\n",
        "  x2 = (w1*x1 + b1)/w2\n",
        "  plt.plot(x1, x2, 'r')\n",
        "  plt.scatter(X[y==0, 0], X[y==0, 1])\n",
        "  plt.scatter(X[y==1, 0], X[y==1, 1])\n",
        "  plt.show()"
      ],
      "execution_count": 0,
      "outputs": []
    },
    {
      "cell_type": "code",
      "metadata": {
        "id": "W9now9uNZcse",
        "colab_type": "code",
        "colab": {
          "base_uri": "https://localhost:8080/",
          "height": 269
        },
        "outputId": "dc780d62-bce8-4c6a-9e51-dd0727d02b7d"
      },
      "source": [
        "torch.manual_seed(2)\n",
        "generate_dataset(n_pts=100)\n",
        "model = Model(2, 1)\n",
        "plot_fit(model, 'Initial model')"
      ],
      "execution_count": 84,
      "outputs": [
        {
          "output_type": "display_data",
          "data": {
            "image/png": "[encoded data removed]",
            "text/plain": [
              "<Figure size 432x288 with 1 Axes>"
            ]
          },
          "metadata": {
            "tags": []
          }
        }
      ]
    },
    {
      "cell_type": "code",
      "metadata": {
        "id": "LlXdTCInZun-",
        "colab_type": "code",
        "colab": {}
      },
      "source": [
        ""
      ],
      "execution_count": 0,
      "outputs": []
    }
  ]
}