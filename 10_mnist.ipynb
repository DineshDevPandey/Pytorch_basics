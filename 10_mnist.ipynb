{
  "nbformat": 4,
  "nbformat_minor": 0,
  "metadata": {
    "colab": {
      "name": "10_mnist.ipynb",
      "version": "0.3.2",
      "provenance": [],
      "include_colab_link": true
    },
    "kernelspec": {
      "name": "python3",
      "display_name": "Python 3"
    },
    "accelerator": "GPU"
  },
  "cells": [
    {
      "cell_type": "markdown",
      "metadata": {
        "id": "view-in-github",
        "colab_type": "text"
      },
      "source": [
        "<a href=\"https://colab.research.google.com/github/DineshDevPandey/Pytorch_basics/blob/master/10_mnist.ipynb\" target=\"_parent\"><img src=\"https://colab.research.google.com/assets/colab-badge.svg\" alt=\"Open In Colab\"/></a>"
      ]
    },
    {
      "cell_type": "code",
      "metadata": {
        "id": "lxkPPy0Doqqb",
        "colab_type": "code",
        "colab": {
          "base_uri": "https://localhost:8080/",
          "height": 119
        },
        "outputId": "f352316c-76d9-4440-ab39-6b9b92e4f8b2"
      },
      "source": [
        "!pip install torchvision"
      ],
      "execution_count": 1,
      "outputs": [
        {
          "output_type": "stream",
          "text": [
            "Requirement already satisfied: torchvision in /usr/local/lib/python3.6/dist-packages (0.3.0)\n",
            "Requirement already satisfied: numpy in /usr/local/lib/python3.6/dist-packages (from torchvision) (1.16.4)\n",
            "Requirement already satisfied: torch>=1.1.0 in /usr/local/lib/python3.6/dist-packages (from torchvision) (1.1.0)\n",
            "Requirement already satisfied: pillow>=4.1.1 in /usr/local/lib/python3.6/dist-packages (from torchvision) (4.3.0)\n",
            "Requirement already satisfied: six in /usr/local/lib/python3.6/dist-packages (from torchvision) (1.12.0)\n",
            "Requirement already satisfied: olefile in /usr/local/lib/python3.6/dist-packages (from pillow>=4.1.1->torchvision) (0.46)\n"
          ],
          "name": "stdout"
        }
      ]
    },
    {
      "cell_type": "code",
      "metadata": {
        "id": "pVFs-eEBoymI",
        "colab_type": "code",
        "colab": {}
      },
      "source": [
        "import torch \n",
        "from torch import nn\n",
        "import torch.nn.functional as F\n",
        "import matplotlib.pyplot as plt\n",
        "import numpy as np\n",
        "from torchvision import datasets, transforms \n",
        "# torchvision contains datasets and transformations performed on these datasets"
      ],
      "execution_count": 0,
      "outputs": []
    },
    {
      "cell_type": "code",
      "metadata": {
        "id": "lEg461TipSjc",
        "colab_type": "code",
        "colab": {
          "base_uri": "https://localhost:8080/",
          "height": 85
        },
        "outputId": "3dfea3cc-41a5-4e7f-ba95-051c387aa143"
      },
      "source": [
        "# MNIST images are grey scale 28x28 = 784 pixel image. each pixel value ranges from 0 to 255\n",
        "# compose allows us to chain transformations togather\n",
        "transform = transforms.Compose(\n",
        "    [\n",
        "        transforms.ToTensor(), # we need to change this numpy array to tensor, \n",
        "        # it changes np array of range 0-255 to float tensor of 0-1 range\n",
        "        # which characteize images (channel, height and width)\n",
        "        transforms.Normalize((0.5,), (0.5,)) \n",
        "        # first (0.5,) (corrosponding to (channel)): is mean\n",
        "        # second (0.5,) (corrosponding to (channel)): is std-dev\n",
        "        # we want to change out tensor range form 0-1 to -1 to 1\n",
        "        # normalization helps to reduce the skewness and distortion \n",
        "    ]\n",
        "    )\n",
        "training_dataset = datasets.MNIST(\n",
        "        root='./data',  # root dir for downloaded dataset\n",
        "        train=True,     # to initilize MNIST training dataset\n",
        "        download=True,  # download data\n",
        "        transform=transform\n",
        "    )\n",
        "validation_dataset = datasets.MNIST(root='./data', train=False, download=True, transform=transform)\n",
        "\n",
        "# In each epoch we send all data, sending 60k images in one epoch is not good for a normal processor health\n",
        "# so we use training downloader to send data in batches, 100 imagese in one epoch\n",
        "training_loader = torch.utils.data.DataLoader(training_dataset, batch_size=100, shuffle=True)\n",
        "validation_loader = torch.utils.data.DataLoader(validation_dataset, batch_size = 100, shuffle=False)\n",
        "\n",
        "training_dataset"
      ],
      "execution_count": 3,
      "outputs": [
        {
          "output_type": "execute_result",
          "data": {
            "text/plain": [
              "Dataset MNIST\n",
              "    Number of datapoints: 60000\n",
              "    Root location: ./data\n",
              "    Split: Train"
            ]
          },
          "metadata": {
            "tags": []
          },
          "execution_count": 3
        }
      ]
    },
    {
      "cell_type": "code",
      "metadata": {
        "id": "-5kk5HSxxMBF",
        "colab_type": "code",
        "colab": {}
      },
      "source": [
        "def img_convert(tensor):\n",
        "    # In order to enable automatic differentiation, PyTorch keeps track of all operations \n",
        "    # involving tensors for which the gradient may need to be computed \n",
        "    # (i.e., require_grad is True). The operations are recorded as a directed graph. \n",
        "    # The detach() method constructs a new view on a tensor which is declared not to need gradients,\n",
        "    image = tensor.clone().detach().numpy()\n",
        "    # each image is a grey_scale means channel=1, width=28, height=28, to plot an image we need 28x28x1 shape\n",
        "    image = image.transpose(1, 2, 0) # modified axis order\n",
        "    # denormalize image multiply by std and add mean\n",
        "    print(image.shape)\n",
        "    image = image * np.array((0.5, 0.5, 0.5)) + np.array((0.5, 0.5, 0.5))\n",
        "    # pixel value change from [-1, 1] to [0, 1]\n",
        "    image = image.clip(0, 1)\n",
        "    return image"
      ],
      "execution_count": 0,
      "outputs": []
    },
    {
      "cell_type": "code",
      "metadata": {
        "id": "GvIZPsBQ0Kj0",
        "colab_type": "code",
        "colab": {
          "base_uri": "https://localhost:8080/",
          "height": 608
        },
        "outputId": "0ee3df39-2d1a-4d6f-cb1e-0b3729730137"
      },
      "source": [
        "# To make training_loader iterable, 1 element at a time\n",
        "dataiter = iter(training_loader)\n",
        "# grab first batch of training data\n",
        "images, labels = dataiter.next()\n",
        "fig = plt.figure(figsize=(25, 4))\n",
        "\n",
        "for idx in np.arange(20):\n",
        "  ax = fig.add_subplot(2, 10, idx+1, xticks=[], yticks=[])\n",
        "  plt.imshow(img_convert(images[idx]))\n",
        "  ax.set_title([labels[idx].item()])"
      ],
      "execution_count": 5,
      "outputs": [
        {
          "output_type": "stream",
          "text": [
            "(28, 28, 1)\n",
            "(28, 28, 1)\n",
            "(28, 28, 1)\n",
            "(28, 28, 1)\n",
            "(28, 28, 1)\n",
            "(28, 28, 1)\n",
            "(28, 28, 1)\n",
            "(28, 28, 1)\n",
            "(28, 28, 1)\n",
            "(28, 28, 1)\n",
            "(28, 28, 1)\n",
            "(28, 28, 1)\n",
            "(28, 28, 1)\n",
            "(28, 28, 1)\n",
            "(28, 28, 1)\n",
            "(28, 28, 1)\n",
            "(28, 28, 1)\n",
            "(28, 28, 1)\n",
            "(28, 28, 1)\n",
            "(28, 28, 1)\n"
          ],
          "name": "stdout"
        },
        {
          "output_type": "display_data",
          "data": {
            "image/png": "[encoded data removed]",
            "text/plain": [
              "<Figure size 1800x288 with 20 Axes>"
            ]
          },
          "metadata": {
            "tags": []
          }
        }
      ]
    },
    {
      "cell_type": "code",
      "metadata": {
        "id": "b0oX_2AQ49RA",
        "colab_type": "code",
        "colab": {}
      },
      "source": [
        "class Classifier(nn.Module):\n",
        "    \n",
        "    def __init__(self, D_in, H1, H2, D_out):\n",
        "        super().__init__()\n",
        "        self.linear1 = nn.Linear(D_in, H1)\n",
        "        self.linear2 = nn.Linear(H1, H2)\n",
        "        self.linear3 = nn.Linear(H2, D_out)\n",
        "    def forward(self, x):\n",
        "        x = F.relu(self.linear1(x))  \n",
        "        x = F.relu(self.linear2(x))\n",
        "        # we need raw output in case of multiclass classification so not using any activation function\n",
        "        x = self.linear3(x)\n",
        "        return x"
      ],
      "execution_count": 0,
      "outputs": []
    },
    {
      "cell_type": "code",
      "metadata": {
        "id": "IXrfPKP31s68",
        "colab_type": "code",
        "colab": {
          "base_uri": "https://localhost:8080/",
          "height": 102
        },
        "outputId": "7f141b1a-9190-4e76-9fab-c07cce58d2d2"
      },
      "source": [
        "model = Classifier(784, 125, 65, 10)\n",
        "model"
      ],
      "execution_count": 7,
      "outputs": [
        {
          "output_type": "execute_result",
          "data": {
            "text/plain": [
              "Classifier(\n",
              "  (linear1): Linear(in_features=784, out_features=125, bias=True)\n",
              "  (linear2): Linear(in_features=125, out_features=65, bias=True)\n",
              "  (linear3): Linear(in_features=65, out_features=10, bias=True)\n",
              ")"
            ]
          },
          "metadata": {
            "tags": []
          },
          "execution_count": 7
        }
      ]
    },
    {
      "cell_type": "code",
      "metadata": {
        "id": "yOGKclZqCqYz",
        "colab_type": "code",
        "colab": {}
      },
      "source": [
        "# CEL is used for loss calculation of multiclass classification\n",
        "criterion = nn.CrossEntropyLoss()\n",
        "optimizer = torch.optim.Adam(model.parameters(), lr = 0.0001)"
      ],
      "execution_count": 0,
      "outputs": []
    },
    {
      "cell_type": "code",
      "metadata": {
        "id": "GL0Hy1A2CtfI",
        "colab_type": "code",
        "colab": {
          "base_uri": "https://localhost:8080/",
          "height": 782
        },
        "outputId": "cf78c262-c38b-4ad1-d92e-bd471a943303"
      },
      "source": [
        "epochs = 15\n",
        "running_loss_history = []\n",
        "running_corrects_history = []\n",
        "val_running_loss_history = []\n",
        "val_running_corrects_history = []\n",
        "\n",
        "for e in range(epochs):\n",
        "  \n",
        "  running_loss = 0.0\n",
        "  running_corrects = 0.0\n",
        "  val_running_loss = 0.0\n",
        "  val_running_corrects = 0.0\n",
        "\n",
        "  for inputs, labels in training_loader:\n",
        "\n",
        "    # each image size is 1x28x28 we need to make it one dim to feed to input layer\n",
        "    inputs = inputs.view(inputs.shape[0], -1)\n",
        "    outputs = model(inputs)\n",
        "    loss = criterion(outputs, labels)\n",
        "    \n",
        "    optimizer.zero_grad()\n",
        "    loss.backward()\n",
        "    optimizer.step()\n",
        "    \n",
        "    # to find the total correct predictions we compare outputs and true labels.\n",
        "    # softmax outputs for a input is equal to total no of classes(here 10 classes)\n",
        "    # find the max one\n",
        "    _, preds = torch.max(outputs, 1)\n",
        "    running_loss += loss.item()\n",
        "    running_corrects += torch.sum(preds == labels.data)\n",
        "\n",
        "  else:\n",
        "    with torch.no_grad():\n",
        "      for val_inputs, val_labels in validation_loader:\n",
        "        val_inputs = val_inputs.view(val_inputs.shape[0], -1)\n",
        "        val_outputs = model(val_inputs)\n",
        "        val_loss = criterion(val_outputs, val_labels)\n",
        "        \n",
        "        _, val_preds = torch.max(val_outputs, 1)\n",
        "        val_running_loss += val_loss.item()\n",
        "        val_running_corrects += torch.sum(val_preds == val_labels.data)\n",
        "      \n",
        "    epoch_loss = running_loss/len(training_loader)\n",
        "    epoch_acc = running_corrects.float()/ len(training_loader)\n",
        "    running_loss_history.append(epoch_loss)\n",
        "    running_corrects_history.append(epoch_acc)\n",
        "    \n",
        "    val_epoch_loss = val_running_loss/len(validation_loader)\n",
        "    val_epoch_acc = val_running_corrects.float()/ len(validation_loader)\n",
        "    val_running_loss_history.append(val_epoch_loss)\n",
        "    val_running_corrects_history.append(val_epoch_acc)\n",
        "    print('epoch :', (e+1))\n",
        "    print('training loss: {:.4f}, acc {:.4f} '.format(epoch_loss, epoch_acc.item()))\n",
        "    print('validation loss: {:.4f}, validation acc {:.4f} '.format(val_epoch_loss, val_epoch_acc.item()))"
      ],
      "execution_count": 9,
      "outputs": [
        {
          "output_type": "stream",
          "text": [
            "epoch : 1\n",
            "training loss: 0.9200, acc 76.2300 \n",
            "validation loss: 0.4226, validation acc 88.6800 \n",
            "epoch : 2\n",
            "training loss: 0.3759, acc 89.4100 \n",
            "validation loss: 0.3169, validation acc 90.9100 \n",
            "epoch : 3\n",
            "training loss: 0.3131, acc 91.0867 \n",
            "validation loss: 0.2871, validation acc 91.7500 \n",
            "epoch : 4\n",
            "training loss: 0.2777, acc 92.0233 \n",
            "validation loss: 0.2571, validation acc 92.6700 \n",
            "epoch : 5\n",
            "training loss: 0.2517, acc 92.8167 \n",
            "validation loss: 0.2324, validation acc 93.3400 \n",
            "epoch : 6\n",
            "training loss: 0.2298, acc 93.4200 \n",
            "validation loss: 0.2151, validation acc 93.8600 \n",
            "epoch : 7\n",
            "training loss: 0.2114, acc 93.9767 \n",
            "validation loss: 0.2052, validation acc 94.1800 \n",
            "epoch : 8\n",
            "training loss: 0.1958, acc 94.4033 \n",
            "validation loss: 0.1872, validation acc 94.5700 \n",
            "epoch : 9\n",
            "training loss: 0.1816, acc 94.8550 \n",
            "validation loss: 0.1739, validation acc 95.0200 \n",
            "epoch : 10\n",
            "training loss: 0.1694, acc 95.1233 \n",
            "validation loss: 0.1744, validation acc 94.7600 \n",
            "epoch : 11\n",
            "training loss: 0.1584, acc 95.4717 \n",
            "validation loss: 0.1597, validation acc 95.3000 \n",
            "epoch : 12\n",
            "training loss: 0.1490, acc 95.6983 \n",
            "validation loss: 0.1481, validation acc 95.6500 \n",
            "epoch : 13\n",
            "training loss: 0.1408, acc 95.9783 \n",
            "validation loss: 0.1474, validation acc 95.6400 \n",
            "epoch : 14\n",
            "training loss: 0.1327, acc 96.1917 \n",
            "validation loss: 0.1439, validation acc 95.7500 \n",
            "epoch : 15\n",
            "training loss: 0.1258, acc 96.3550 \n",
            "validation loss: 0.1317, validation acc 96.1300 \n"
          ],
          "name": "stdout"
        }
      ]
    },
    {
      "cell_type": "code",
      "metadata": {
        "id": "L_eDVzzrEHxh",
        "colab_type": "code",
        "colab": {
          "base_uri": "https://localhost:8080/",
          "height": 286
        },
        "outputId": "19e2a2f8-c652-44a0-8c02-e6c4e4ad44e3"
      },
      "source": [
        "plt.plot(running_loss_history, label='training loss')\n",
        "plt.plot(val_running_loss_history, label='validation loss')\n",
        "plt.legend()"
      ],
      "execution_count": 10,
      "outputs": [
        {
          "output_type": "execute_result",
          "data": {
            "text/plain": [
              "<matplotlib.legend.Legend at 0x7f6226439358>"
            ]
          },
          "metadata": {
            "tags": []
          },
          "execution_count": 10
        },
        {
          "output_type": "display_data",
          "data": {
            "image/png": "[encoded data removed]",
            "text/plain": [
              "<Figure size 432x288 with 1 Axes>"
            ]
          },
          "metadata": {
            "tags": []
          }
        }
      ]
    },
    {
      "cell_type": "code",
      "metadata": {
        "id": "B38S3r5IEIgW",
        "colab_type": "code",
        "colab": {
          "base_uri": "https://localhost:8080/",
          "height": 286
        },
        "outputId": "4807670d-5571-4bdd-ad38-22b0667d8e54"
      },
      "source": [
        "\n",
        "plt.plot(running_corrects_history, label='training accuracy')\n",
        "plt.plot(val_running_corrects_history, label='validation accuracy')\n",
        "plt.legend()"
      ],
      "execution_count": 11,
      "outputs": [
        {
          "output_type": "execute_result",
          "data": {
            "text/plain": [
              "<matplotlib.legend.Legend at 0x7f622640ffd0>"
            ]
          },
          "metadata": {
            "tags": []
          },
          "execution_count": 11
        },
        {
          "output_type": "display_data",
          "data": {
            "image/png": "[encoded data removed]",
            "text/plain": [
              "<Figure size 432x288 with 1 Axes>"
            ]
          },
          "metadata": {
            "tags": []
          }
        }
      ]
    },
    {
      "cell_type": "code",
      "metadata": {
        "id": "tB6Ur_IRRZY-",
        "colab_type": "code",
        "colab": {}
      },
      "source": [
        ""
      ],
      "execution_count": 0,
      "outputs": []
    },
    {
      "cell_type": "code",
      "metadata": {
        "id": "8_0OS028Re-L",
        "colab_type": "code",
        "colab": {}
      },
      "source": [
        ""
      ],
      "execution_count": 0,
      "outputs": []
    }
  ]
}